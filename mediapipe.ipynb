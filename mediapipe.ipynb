{
 "cells": [
  {
   "cell_type": "code",
   "execution_count": 1,
   "metadata": {},
   "outputs": [
    {
     "name": "stdout",
     "output_type": "stream",
     "text": [
      "Requirement already satisfied: mediapipe in ./py3-10/lib/python3.10/site-packages (0.10.14)\n",
      "Requirement already satisfied: opencv-python in ./py3-10/lib/python3.10/site-packages (4.10.0.84)\n",
      "Requirement already satisfied: tensorflow in ./py3-10/lib/python3.10/site-packages (2.17.0)\n",
      "Requirement already satisfied: pandas in ./py3-10/lib/python3.10/site-packages (2.2.2)\n",
      "Requirement already satisfied: setuptools in ./py3-10/lib/python3.10/site-packages (58.1.0)\n",
      "Requirement already satisfied: scikit-learn in ./py3-10/lib/python3.10/site-packages (1.5.1)\n",
      "Requirement already satisfied: jaxlib in ./py3-10/lib/python3.10/site-packages (from mediapipe) (0.4.31)\n",
      "Requirement already satisfied: attrs>=19.1.0 in ./py3-10/lib/python3.10/site-packages (from mediapipe) (24.2.0)\n",
      "Requirement already satisfied: matplotlib in ./py3-10/lib/python3.10/site-packages (from mediapipe) (3.9.2)\n",
      "Requirement already satisfied: sounddevice>=0.4.4 in ./py3-10/lib/python3.10/site-packages (from mediapipe) (0.5.0)\n",
      "Requirement already satisfied: opencv-contrib-python in ./py3-10/lib/python3.10/site-packages (from mediapipe) (4.10.0.84)\n",
      "Requirement already satisfied: protobuf<5,>=4.25.3 in ./py3-10/lib/python3.10/site-packages (from mediapipe) (4.25.4)\n",
      "Requirement already satisfied: flatbuffers>=2.0 in ./py3-10/lib/python3.10/site-packages (from mediapipe) (24.3.25)\n",
      "Requirement already satisfied: numpy in ./py3-10/lib/python3.10/site-packages (from mediapipe) (1.26.4)\n",
      "Requirement already satisfied: absl-py in ./py3-10/lib/python3.10/site-packages (from mediapipe) (2.1.0)\n",
      "Requirement already satisfied: jax in ./py3-10/lib/python3.10/site-packages (from mediapipe) (0.4.31)\n",
      "Requirement already satisfied: google-pasta>=0.1.1 in ./py3-10/lib/python3.10/site-packages (from tensorflow) (0.2.0)\n",
      "Requirement already satisfied: libclang>=13.0.0 in ./py3-10/lib/python3.10/site-packages (from tensorflow) (18.1.1)\n",
      "Requirement already satisfied: grpcio<2.0,>=1.24.3 in ./py3-10/lib/python3.10/site-packages (from tensorflow) (1.66.0)\n",
      "Requirement already satisfied: ml-dtypes<0.5.0,>=0.3.1 in ./py3-10/lib/python3.10/site-packages (from tensorflow) (0.4.0)\n",
      "Requirement already satisfied: gast!=0.5.0,!=0.5.1,!=0.5.2,>=0.2.1 in ./py3-10/lib/python3.10/site-packages (from tensorflow) (0.6.0)\n",
      "Requirement already satisfied: requests<3,>=2.21.0 in ./py3-10/lib/python3.10/site-packages (from tensorflow) (2.32.3)\n",
      "Requirement already satisfied: packaging in ./py3-10/lib/python3.10/site-packages (from tensorflow) (24.1)\n",
      "Requirement already satisfied: typing-extensions>=3.6.6 in ./py3-10/lib/python3.10/site-packages (from tensorflow) (4.12.2)\n",
      "Requirement already satisfied: astunparse>=1.6.0 in ./py3-10/lib/python3.10/site-packages (from tensorflow) (1.6.3)\n",
      "Requirement already satisfied: termcolor>=1.1.0 in ./py3-10/lib/python3.10/site-packages (from tensorflow) (2.4.0)\n",
      "Requirement already satisfied: tensorboard<2.18,>=2.17 in ./py3-10/lib/python3.10/site-packages (from tensorflow) (2.17.1)\n",
      "Requirement already satisfied: tensorflow-io-gcs-filesystem>=0.23.1 in ./py3-10/lib/python3.10/site-packages (from tensorflow) (0.37.1)\n",
      "Requirement already satisfied: h5py>=3.10.0 in ./py3-10/lib/python3.10/site-packages (from tensorflow) (3.11.0)\n",
      "Requirement already satisfied: opt-einsum>=2.3.2 in ./py3-10/lib/python3.10/site-packages (from tensorflow) (3.3.0)\n",
      "Requirement already satisfied: six>=1.12.0 in ./py3-10/lib/python3.10/site-packages (from tensorflow) (1.16.0)\n",
      "Requirement already satisfied: keras>=3.2.0 in ./py3-10/lib/python3.10/site-packages (from tensorflow) (3.5.0)\n",
      "Requirement already satisfied: wrapt>=1.11.0 in ./py3-10/lib/python3.10/site-packages (from tensorflow) (1.16.0)\n",
      "Requirement already satisfied: pytz>=2020.1 in ./py3-10/lib/python3.10/site-packages (from pandas) (2024.1)\n",
      "Requirement already satisfied: tzdata>=2022.7 in ./py3-10/lib/python3.10/site-packages (from pandas) (2024.1)\n",
      "Requirement already satisfied: python-dateutil>=2.8.2 in ./py3-10/lib/python3.10/site-packages (from pandas) (2.9.0.post0)\n",
      "Requirement already satisfied: threadpoolctl>=3.1.0 in ./py3-10/lib/python3.10/site-packages (from scikit-learn) (3.5.0)\n",
      "Requirement already satisfied: joblib>=1.2.0 in ./py3-10/lib/python3.10/site-packages (from scikit-learn) (1.4.2)\n",
      "Requirement already satisfied: scipy>=1.6.0 in ./py3-10/lib/python3.10/site-packages (from scikit-learn) (1.14.1)\n",
      "Requirement already satisfied: wheel<1.0,>=0.23.0 in ./py3-10/lib/python3.10/site-packages (from astunparse>=1.6.0->tensorflow) (0.44.0)\n",
      "Requirement already satisfied: namex in ./py3-10/lib/python3.10/site-packages (from keras>=3.2.0->tensorflow) (0.0.8)\n",
      "Requirement already satisfied: optree in ./py3-10/lib/python3.10/site-packages (from keras>=3.2.0->tensorflow) (0.12.1)\n",
      "Requirement already satisfied: rich in ./py3-10/lib/python3.10/site-packages (from keras>=3.2.0->tensorflow) (13.7.1)\n",
      "Requirement already satisfied: certifi>=2017.4.17 in ./py3-10/lib/python3.10/site-packages (from requests<3,>=2.21.0->tensorflow) (2024.7.4)\n",
      "Requirement already satisfied: urllib3<3,>=1.21.1 in ./py3-10/lib/python3.10/site-packages (from requests<3,>=2.21.0->tensorflow) (2.2.2)\n",
      "Requirement already satisfied: charset-normalizer<4,>=2 in ./py3-10/lib/python3.10/site-packages (from requests<3,>=2.21.0->tensorflow) (3.3.2)\n",
      "Requirement already satisfied: idna<4,>=2.5 in ./py3-10/lib/python3.10/site-packages (from requests<3,>=2.21.0->tensorflow) (3.8)\n",
      "Requirement already satisfied: CFFI>=1.0 in ./py3-10/lib/python3.10/site-packages (from sounddevice>=0.4.4->mediapipe) (1.17.0)\n",
      "Requirement already satisfied: markdown>=2.6.8 in ./py3-10/lib/python3.10/site-packages (from tensorboard<2.18,>=2.17->tensorflow) (3.7)\n",
      "Requirement already satisfied: werkzeug>=1.0.1 in ./py3-10/lib/python3.10/site-packages (from tensorboard<2.18,>=2.17->tensorflow) (3.0.4)\n",
      "Requirement already satisfied: tensorboard-data-server<0.8.0,>=0.7.0 in ./py3-10/lib/python3.10/site-packages (from tensorboard<2.18,>=2.17->tensorflow) (0.7.2)\n",
      "Requirement already satisfied: kiwisolver>=1.3.1 in ./py3-10/lib/python3.10/site-packages (from matplotlib->mediapipe) (1.4.5)\n",
      "Requirement already satisfied: fonttools>=4.22.0 in ./py3-10/lib/python3.10/site-packages (from matplotlib->mediapipe) (4.53.1)\n",
      "Requirement already satisfied: pillow>=8 in ./py3-10/lib/python3.10/site-packages (from matplotlib->mediapipe) (10.4.0)\n",
      "Requirement already satisfied: cycler>=0.10 in ./py3-10/lib/python3.10/site-packages (from matplotlib->mediapipe) (0.12.1)\n",
      "Requirement already satisfied: contourpy>=1.0.1 in ./py3-10/lib/python3.10/site-packages (from matplotlib->mediapipe) (1.2.1)\n",
      "Requirement already satisfied: pyparsing>=2.3.1 in ./py3-10/lib/python3.10/site-packages (from matplotlib->mediapipe) (3.1.4)\n",
      "Requirement already satisfied: pycparser in ./py3-10/lib/python3.10/site-packages (from CFFI>=1.0->sounddevice>=0.4.4->mediapipe) (2.22)\n",
      "Requirement already satisfied: MarkupSafe>=2.1.1 in ./py3-10/lib/python3.10/site-packages (from werkzeug>=1.0.1->tensorboard<2.18,>=2.17->tensorflow) (2.1.5)\n",
      "Requirement already satisfied: markdown-it-py>=2.2.0 in ./py3-10/lib/python3.10/site-packages (from rich->keras>=3.2.0->tensorflow) (3.0.0)\n",
      "Requirement already satisfied: pygments<3.0.0,>=2.13.0 in ./py3-10/lib/python3.10/site-packages (from rich->keras>=3.2.0->tensorflow) (2.18.0)\n",
      "Requirement already satisfied: mdurl~=0.1 in ./py3-10/lib/python3.10/site-packages (from markdown-it-py>=2.2.0->rich->keras>=3.2.0->tensorflow) (0.1.2)\n",
      "\u001b[33mWARNING: You are using pip version 22.0.4; however, version 24.2 is available.\n",
      "You should consider upgrading via the '/Users/vikrantverma/Documents/mediapipe-form-tracker/py3-10/bin/python -m pip install --upgrade pip' command.\u001b[0m\u001b[33m\n",
      "\u001b[0mNote: you may need to restart the kernel to use updated packages.\n"
     ]
    }
   ],
   "source": [
    "%pip install mediapipe opencv-python tensorflow pandas setuptools scikit-learn"
   ]
  },
  {
   "cell_type": "code",
   "execution_count": 7,
   "metadata": {},
   "outputs": [
    {
     "data": {
      "text/html": [
       "<pre style=\"white-space:pre;overflow-x:auto;line-height:normal;font-family:Menlo,'DejaVu Sans Mono',consolas,'Courier New',monospace\"><span style=\"font-weight: bold\">Model: \"sequential_4\"</span>\n",
       "</pre>\n"
      ],
      "text/plain": [
       "\u001b[1mModel: \"sequential_4\"\u001b[0m\n"
      ]
     },
     "metadata": {},
     "output_type": "display_data"
    },
    {
     "data": {
      "text/html": [
       "<pre style=\"white-space:pre;overflow-x:auto;line-height:normal;font-family:Menlo,'DejaVu Sans Mono',consolas,'Courier New',monospace\">┏━━━━━━━━━━━━━━━━━━━━━━━━━━━━━━━━━┳━━━━━━━━━━━━━━━━━━━━━━━━┳━━━━━━━━━━━━━━━┓\n",
       "┃<span style=\"font-weight: bold\"> Layer (type)                    </span>┃<span style=\"font-weight: bold\"> Output Shape           </span>┃<span style=\"font-weight: bold\">       Param # </span>┃\n",
       "┡━━━━━━━━━━━━━━━━━━━━━━━━━━━━━━━━━╇━━━━━━━━━━━━━━━━━━━━━━━━╇━━━━━━━━━━━━━━━┩\n",
       "│ dense_10 (<span style=\"color: #0087ff; text-decoration-color: #0087ff\">Dense</span>)                │ (<span style=\"color: #00d7ff; text-decoration-color: #00d7ff\">None</span>, <span style=\"color: #00af00; text-decoration-color: #00af00\">16</span>)             │            <span style=\"color: #00af00; text-decoration-color: #00af00\">32</span> │\n",
       "├─────────────────────────────────┼────────────────────────┼───────────────┤\n",
       "│ dense_11 (<span style=\"color: #0087ff; text-decoration-color: #0087ff\">Dense</span>)                │ (<span style=\"color: #00d7ff; text-decoration-color: #00d7ff\">None</span>, <span style=\"color: #00af00; text-decoration-color: #00af00\">8</span>)              │           <span style=\"color: #00af00; text-decoration-color: #00af00\">136</span> │\n",
       "├─────────────────────────────────┼────────────────────────┼───────────────┤\n",
       "│ dense_12 (<span style=\"color: #0087ff; text-decoration-color: #0087ff\">Dense</span>)                │ (<span style=\"color: #00d7ff; text-decoration-color: #00d7ff\">None</span>, <span style=\"color: #00af00; text-decoration-color: #00af00\">1</span>)              │             <span style=\"color: #00af00; text-decoration-color: #00af00\">9</span> │\n",
       "└─────────────────────────────────┴────────────────────────┴───────────────┘\n",
       "</pre>\n"
      ],
      "text/plain": [
       "┏━━━━━━━━━━━━━━━━━━━━━━━━━━━━━━━━━┳━━━━━━━━━━━━━━━━━━━━━━━━┳━━━━━━━━━━━━━━━┓\n",
       "┃\u001b[1m \u001b[0m\u001b[1mLayer (type)                   \u001b[0m\u001b[1m \u001b[0m┃\u001b[1m \u001b[0m\u001b[1mOutput Shape          \u001b[0m\u001b[1m \u001b[0m┃\u001b[1m \u001b[0m\u001b[1m      Param #\u001b[0m\u001b[1m \u001b[0m┃\n",
       "┡━━━━━━━━━━━━━━━━━━━━━━━━━━━━━━━━━╇━━━━━━━━━━━━━━━━━━━━━━━━╇━━━━━━━━━━━━━━━┩\n",
       "│ dense_10 (\u001b[38;5;33mDense\u001b[0m)                │ (\u001b[38;5;45mNone\u001b[0m, \u001b[38;5;34m16\u001b[0m)             │            \u001b[38;5;34m32\u001b[0m │\n",
       "├─────────────────────────────────┼────────────────────────┼───────────────┤\n",
       "│ dense_11 (\u001b[38;5;33mDense\u001b[0m)                │ (\u001b[38;5;45mNone\u001b[0m, \u001b[38;5;34m8\u001b[0m)              │           \u001b[38;5;34m136\u001b[0m │\n",
       "├─────────────────────────────────┼────────────────────────┼───────────────┤\n",
       "│ dense_12 (\u001b[38;5;33mDense\u001b[0m)                │ (\u001b[38;5;45mNone\u001b[0m, \u001b[38;5;34m1\u001b[0m)              │             \u001b[38;5;34m9\u001b[0m │\n",
       "└─────────────────────────────────┴────────────────────────┴───────────────┘\n"
      ]
     },
     "metadata": {},
     "output_type": "display_data"
    },
    {
     "data": {
      "text/html": [
       "<pre style=\"white-space:pre;overflow-x:auto;line-height:normal;font-family:Menlo,'DejaVu Sans Mono',consolas,'Courier New',monospace\"><span style=\"font-weight: bold\"> Total params: </span><span style=\"color: #00af00; text-decoration-color: #00af00\">533</span> (2.09 KB)\n",
       "</pre>\n"
      ],
      "text/plain": [
       "\u001b[1m Total params: \u001b[0m\u001b[38;5;34m533\u001b[0m (2.09 KB)\n"
      ]
     },
     "metadata": {},
     "output_type": "display_data"
    },
    {
     "data": {
      "text/html": [
       "<pre style=\"white-space:pre;overflow-x:auto;line-height:normal;font-family:Menlo,'DejaVu Sans Mono',consolas,'Courier New',monospace\"><span style=\"font-weight: bold\"> Trainable params: </span><span style=\"color: #00af00; text-decoration-color: #00af00\">177</span> (708.00 B)\n",
       "</pre>\n"
      ],
      "text/plain": [
       "\u001b[1m Trainable params: \u001b[0m\u001b[38;5;34m177\u001b[0m (708.00 B)\n"
      ]
     },
     "metadata": {},
     "output_type": "display_data"
    },
    {
     "data": {
      "text/html": [
       "<pre style=\"white-space:pre;overflow-x:auto;line-height:normal;font-family:Menlo,'DejaVu Sans Mono',consolas,'Courier New',monospace\"><span style=\"font-weight: bold\"> Non-trainable params: </span><span style=\"color: #00af00; text-decoration-color: #00af00\">0</span> (0.00 B)\n",
       "</pre>\n"
      ],
      "text/plain": [
       "\u001b[1m Non-trainable params: \u001b[0m\u001b[38;5;34m0\u001b[0m (0.00 B)\n"
      ]
     },
     "metadata": {},
     "output_type": "display_data"
    },
    {
     "data": {
      "text/html": [
       "<pre style=\"white-space:pre;overflow-x:auto;line-height:normal;font-family:Menlo,'DejaVu Sans Mono',consolas,'Courier New',monospace\"><span style=\"font-weight: bold\"> Optimizer params: </span><span style=\"color: #00af00; text-decoration-color: #00af00\">356</span> (1.39 KB)\n",
       "</pre>\n"
      ],
      "text/plain": [
       "\u001b[1m Optimizer params: \u001b[0m\u001b[38;5;34m356\u001b[0m (1.39 KB)\n"
      ]
     },
     "metadata": {},
     "output_type": "display_data"
    },
    {
     "name": "stdout",
     "output_type": "stream",
     "text": [
      "None\n"
     ]
    }
   ],
   "source": [
    "import cv2\n",
    "import mediapipe as mp\n",
    "import numpy as np\n",
    "import joblib\n",
    "\n",
    "mp_drawing = mp.solutions.drawing_utils\n",
    "mp_pose = mp.solutions.pose\n",
    "mp_hol = mp.solutions.holistic\n",
    "#bicep_predict = tf.keras.models.load_model('bicep_curl_model.keras')\n",
    "model = joblib.load('BicepBro.pkl')\n",
    "#print(bicep_predict.summary())\n",
    "\n"
   ]
  },
  {
   "cell_type": "code",
   "execution_count": 3,
   "metadata": {},
   "outputs": [],
   "source": [
    "def calculate_angles(pointA, pointB, pointC):\n",
    "   # Vectors from point B (elbow) to points A (shoulder) and C (wrist)\n",
    "    AB = np.array(pointA) - np.array(pointB)\n",
    "    BC = np.array(pointC) - np.array(pointB)\n",
    "    \n",
    "    # Normalize vectors\n",
    "    AB = AB / np.linalg.norm(AB)\n",
    "    BC = BC / np.linalg.norm(BC)\n",
    "    \n",
    "    # Calculate the cosine of the angle using the dot product\n",
    "    cosine_angle = np.dot(AB, BC)\n",
    "    \n",
    "    # Ensure the cosine value is within the valid range due to floating point errors\n",
    "    cosine_angle = np.clip(cosine_angle, -1.0, 1.0)\n",
    "    \n",
    "    # Calculate the angle in degrees\n",
    "    angle = np.arccos(cosine_angle)\n",
    "    angle = np.degrees(angle)\n",
    "    \n",
    "    return angle\n",
    "\n"
   ]
  },
  {
   "cell_type": "code",
   "execution_count": null,
   "metadata": {},
   "outputs": [],
   "source": [
    "cap = cv2.VideoCapture(0)\n",
    "\n",
    "counter = 0\n",
    "stage = None\n",
    "time = 0\n",
    "form_prediction = \"Good\"\n",
    "\n",
    "with mp_pose.Pose(min_detection_confidence=0.9, min_tracking_confidence=0.9) as pose:\n",
    "   while cap.isOpened():\n",
    "      ret, frame = cap.read()\n",
    "\n",
    "      '''\n",
    "      the cv2 library uses bgr by default but mediapipe wants \n",
    "      frames in rgb format\n",
    "      '''\n",
    "      \n",
    "      image = cv2.cvtColor(frame, cv2.COLOR_BGR2RGB)\n",
    "\n",
    "      # more memory efficient because ensures that we don't need to make a copy of our image (array)\n",
    "      image.flags.writeable = False \n",
    "\n",
    "\n",
    "      results = pose.process(image)\n",
    "\n",
    "      image.flags.writeable = True\n",
    "      image = cv2.cvtColor(image, cv2.COLOR_RGB2BGR)\n",
    "\n",
    "      try:\n",
    "         landmarks = results.pose_landmarks.landmark\n",
    "         real = results.pose_world_landmarks.landmark\n",
    "\n",
    "         \n",
    "         l_shoulder = [landmarks[mp_pose.PoseLandmark.LEFT_SHOULDER.value].x,\n",
    "                     landmarks[mp_pose.PoseLandmark.LEFT_SHOULDER.value].y,\n",
    "                     landmarks[mp_pose.PoseLandmark.LEFT_SHOULDER.value].z]\n",
    "\n",
    "         r_shoulder = [landmarks[mp_pose.PoseLandmark.RIGHT_SHOULDER.value].x,\n",
    "                     landmarks[mp_pose.PoseLandmark.RIGHT_SHOULDER.value].y,\n",
    "                     landmarks[mp_pose.PoseLandmark.RIGHT_SHOULDER.value].z]\n",
    "\n",
    "         elbow = [landmarks[mp_pose.PoseLandmark.LEFT_ELBOW.value].x,\n",
    "                  landmarks[mp_pose.PoseLandmark.LEFT_ELBOW.value].y,\n",
    "                  landmarks[mp_pose.PoseLandmark.LEFT_ELBOW.value].z]\n",
    "         \n",
    "         real_elbow = [real[mp_pose.PoseLandmark.LEFT_ELBOW.value].x,\n",
    "                  real[mp_pose.PoseLandmark.LEFT_ELBOW.value].y,\n",
    "                  real[mp_pose.PoseLandmark.LEFT_ELBOW.value].z]\n",
    "         \n",
    "         real_hip = [real[mp_pose.PoseLandmark.LEFT_HIP.value].x,\n",
    "                  real[mp_pose.PoseLandmark.LEFT_HIP.value].y,\n",
    "                  real[mp_pose.PoseLandmark.LEFT_HIP.value].z]\n",
    "         \n",
    "         r_elbow = [landmarks[mp_pose.PoseLandmark.RIGHT_ELBOW.value].x,\n",
    "                  landmarks[mp_pose.PoseLandmark.RIGHT_ELBOW.value].y,\n",
    "                  landmarks[mp_pose.PoseLandmark.RIGHT_ELBOW.value].z]\n",
    "\n",
    "         wrist = [landmarks[mp_pose.PoseLandmark.LEFT_WRIST.value].x, \n",
    "                  landmarks[mp_pose.PoseLandmark.LEFT_WRIST.value].y]\n",
    "\n",
    "         angle = calculate_angles(l_shoulder[:2], elbow[:2], wrist)\n",
    "         elbow_position_normalized = tuple(np.multiply(elbow[:2], [640,480]).astype(int))\n",
    "         text_pos = (elbow_position_normalized[0] + 10, elbow_position_normalized[1] - 10)\n",
    "\n",
    "         \n",
    "         cv2.putText(\n",
    "            image,\n",
    "            str(int(angle)),\n",
    "            text_pos,\n",
    "            \n",
    "            cv2.FONT_HERSHEY_DUPLEX, 0.5, (255,255,255), 2, cv2.LINE_AA\n",
    "         )\n",
    "         \n",
    "         if time % 10 == 0:\n",
    "            try:\n",
    "               form_prediction = model.predict(np.array([[l_shoulder[2], elbow[2], l_shoulder[1], r_shoulder[1], real_elbow[2], real_hip[2]]]))\n",
    "               if form_prediction[0] == 0:\n",
    "                  form_prediction = \"Good\"\n",
    "               elif form_prediction[0] == 1:\n",
    "                  form_prediction = \"Lower your shoulder\"\n",
    "               elif form_prediction[0] == 2:\n",
    "                  form_prediction = \"Raise your shoulder\"\n",
    "               elif form_prediction[0] == 3:\n",
    "                  form_prediction = \"Keep your elbow next to your body\"\n",
    "               elif form_prediction[0] == 4:\n",
    "                  form_prediction = \"Lower your shoulder and keep elbow close\"\n",
    "               else:\n",
    "                  form_prediction = \"Raise shoulder and keep elbow close\"\n",
    "            except Exception as e:\n",
    "               print(e)\n",
    "               pass\n",
    "         \n",
    "\n",
    "\n",
    "         if angle > 160:\n",
    "            stage = 'd'\n",
    "         if angle <= 47 and stage == 'd':\n",
    "            stage = 'u'\n",
    "            counter += 1\n",
    "      except Exception as e:\n",
    "         print(e)\n",
    "         pass\n",
    "\n",
    "      cv2.putText(\n",
    "            image,\n",
    "            f\"Reps: {str(counter)}\",\n",
    "            (200,200),\n",
    "            cv2.FONT_HERSHEY_DUPLEX, 5, (255,255,255), 2, cv2.LINE_AA\n",
    "         )\n",
    "\n",
    "      cv2.putText(\n",
    "            image,\n",
    "            f\"Technique: {form_prediction}\",\n",
    "            (0,480),\n",
    "            cv2.FONT_HERSHEY_DUPLEX, 1, (255,255,255), 2, cv2.LINE_AA\n",
    "         )\n",
    "      \n",
    "\n",
    "\n",
    "      mp_drawing.draw_landmarks(image, results.pose_landmarks, mp_pose.POSE_CONNECTIONS,\n",
    "                                mp_drawing.DrawingSpec(color=(245,117,66), thickness=2, circle_radius=2),\n",
    "                                mp_drawing.DrawingSpec(color=(245,66,230), thickness=2, circle_radius=2)\n",
    "                                )\n",
    "\n",
    "      cv2.imshow('Strongr v1', image)\n",
    "      time += 1\n",
    "      key = cv2.waitKey(10)\n",
    "\n",
    "      if key==ord('q'):\n",
    "         cv2.destroyAllWindows()\n",
    "         break\n",
    "\n",
    "   cv2.waitKey(1)\n",
    "   cap.release()\n",
    "   cv2.destroyAllWindows()\n",
    "\n",
    "\n"
   ]
  },
  {
   "cell_type": "code",
   "execution_count": null,
   "metadata": {},
   "outputs": [],
   "source": []
  },
  {
   "cell_type": "code",
   "execution_count": 5,
   "metadata": {},
   "outputs": [
    {
     "data": {
      "text/plain": [
       "[0.7232216596603394, 0.9559380412101746, -0.5719205737113953]"
      ]
     },
     "execution_count": 5,
     "metadata": {},
     "output_type": "execute_result"
    }
   ],
   "source": [
    "elbow"
   ]
  },
  {
   "cell_type": "code",
   "execution_count": 6,
   "metadata": {},
   "outputs": [
    {
     "data": {
      "text/plain": [
       "[0.7144585847854614, 1.0940802097320557]"
      ]
     },
     "execution_count": 6,
     "metadata": {},
     "output_type": "execute_result"
    }
   ],
   "source": [
    "wrist"
   ]
  }
 ],
 "metadata": {
  "kernelspec": {
   "display_name": "myenv",
   "language": "python",
   "name": "python3"
  },
  "language_info": {
   "codemirror_mode": {
    "name": "ipython",
    "version": 3
   },
   "file_extension": ".py",
   "mimetype": "text/x-python",
   "name": "python",
   "nbconvert_exporter": "python",
   "pygments_lexer": "ipython3",
   "version": "3.10.5"
  }
 },
 "nbformat": 4,
 "nbformat_minor": 2
}
