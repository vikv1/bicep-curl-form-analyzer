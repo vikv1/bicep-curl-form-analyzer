{
 "cells": [
  {
   "cell_type": "code",
   "execution_count": 2,
   "metadata": {},
   "outputs": [
    {
     "name": "stdout",
     "output_type": "stream",
     "text": [
      "Requirement already satisfied: mediapipe in c:\\users\\lakes\\documents\\mediapipe-form-tracker\\myenv\\lib\\site-packages (0.10.14)\n",
      "Requirement already satisfied: opencv-python in c:\\users\\lakes\\documents\\mediapipe-form-tracker\\myenv\\lib\\site-packages (4.10.0.84)\n",
      "Requirement already satisfied: matplotlib in c:\\users\\lakes\\documents\\mediapipe-form-tracker\\myenv\\lib\\site-packages (from mediapipe) (3.9.2)\n",
      "Requirement already satisfied: sounddevice>=0.4.4 in c:\\users\\lakes\\documents\\mediapipe-form-tracker\\myenv\\lib\\site-packages (from mediapipe) (0.5.0)\n",
      "Requirement already satisfied: numpy in c:\\users\\lakes\\documents\\mediapipe-form-tracker\\myenv\\lib\\site-packages (from mediapipe) (2.1.0)\n",
      "Requirement already satisfied: protobuf<5,>=4.25.3 in c:\\users\\lakes\\documents\\mediapipe-form-tracker\\myenv\\lib\\site-packages (from mediapipe) (4.25.4)\n",
      "Requirement already satisfied: jaxlib in c:\\users\\lakes\\documents\\mediapipe-form-tracker\\myenv\\lib\\site-packages (from mediapipe) (0.4.31)\n",
      "Requirement already satisfied: jax in c:\\users\\lakes\\documents\\mediapipe-form-tracker\\myenv\\lib\\site-packages (from mediapipe) (0.4.31)\n",
      "Requirement already satisfied: opencv-contrib-python in c:\\users\\lakes\\documents\\mediapipe-form-tracker\\myenv\\lib\\site-packages (from mediapipe) (4.10.0.84)\n",
      "Requirement already satisfied: flatbuffers>=2.0 in c:\\users\\lakes\\documents\\mediapipe-form-tracker\\myenv\\lib\\site-packages (from mediapipe) (24.3.25)\n",
      "Requirement already satisfied: absl-py in c:\\users\\lakes\\documents\\mediapipe-form-tracker\\myenv\\lib\\site-packages (from mediapipe) (2.1.0)\n",
      "Requirement already satisfied: attrs>=19.1.0 in c:\\users\\lakes\\documents\\mediapipe-form-tracker\\myenv\\lib\\site-packages (from mediapipe) (24.2.0)\n",
      "Requirement already satisfied: CFFI>=1.0 in c:\\users\\lakes\\documents\\mediapipe-form-tracker\\myenv\\lib\\site-packages (from sounddevice>=0.4.4->mediapipe) (1.17.0)\n",
      "Requirement already satisfied: pycparser in c:\\users\\lakes\\documents\\mediapipe-form-tracker\\myenv\\lib\\site-packages (from CFFI>=1.0->sounddevice>=0.4.4->mediapipe) (2.22)\n",
      "Requirement already satisfied: opt-einsum in c:\\users\\lakes\\documents\\mediapipe-form-tracker\\myenv\\lib\\site-packages (from jax->mediapipe) (3.3.0)\n",
      "Requirement already satisfied: ml-dtypes>=0.2.0 in c:\\users\\lakes\\documents\\mediapipe-form-tracker\\myenv\\lib\\site-packages (from jax->mediapipe) (0.4.0)\n",
      "Requirement already satisfied: scipy>=1.10 in c:\\users\\lakes\\documents\\mediapipe-form-tracker\\myenv\\lib\\site-packages (from jax->mediapipe) (1.14.1)\n",
      "Requirement already satisfied: fonttools>=4.22.0 in c:\\users\\lakes\\documents\\mediapipe-form-tracker\\myenv\\lib\\site-packages (from matplotlib->mediapipe) (4.53.1)\n",
      "Requirement already satisfied: pyparsing>=2.3.1 in c:\\users\\lakes\\documents\\mediapipe-form-tracker\\myenv\\lib\\site-packages (from matplotlib->mediapipe) (3.1.4)\n",
      "Requirement already satisfied: kiwisolver>=1.3.1 in c:\\users\\lakes\\documents\\mediapipe-form-tracker\\myenv\\lib\\site-packages (from matplotlib->mediapipe) (1.4.5)\n",
      "Requirement already satisfied: python-dateutil>=2.7 in c:\\users\\lakes\\documents\\mediapipe-form-tracker\\myenv\\lib\\site-packages (from matplotlib->mediapipe) (2.9.0.post0)\n",
      "Requirement already satisfied: cycler>=0.10 in c:\\users\\lakes\\documents\\mediapipe-form-tracker\\myenv\\lib\\site-packages (from matplotlib->mediapipe) (0.12.1)\n",
      "Requirement already satisfied: contourpy>=1.0.1 in c:\\users\\lakes\\documents\\mediapipe-form-tracker\\myenv\\lib\\site-packages (from matplotlib->mediapipe) (1.2.1)\n",
      "Requirement already satisfied: pillow>=8 in c:\\users\\lakes\\documents\\mediapipe-form-tracker\\myenv\\lib\\site-packages (from matplotlib->mediapipe) (10.4.0)\n",
      "Requirement already satisfied: packaging>=20.0 in c:\\users\\lakes\\documents\\mediapipe-form-tracker\\myenv\\lib\\site-packages (from matplotlib->mediapipe) (24.1)\n",
      "Requirement already satisfied: six>=1.5 in c:\\users\\lakes\\documents\\mediapipe-form-tracker\\myenv\\lib\\site-packages (from python-dateutil>=2.7->matplotlib->mediapipe) (1.16.0)\n",
      "Note: you may need to restart the kernel to use updated packages.\n"
     ]
    },
    {
     "name": "stderr",
     "output_type": "stream",
     "text": [
      "WARNING: You are using pip version 21.2.4; however, version 24.2 is available.\n",
      "You should consider upgrading via the 'c:\\Users\\lakes\\Documents\\mediapipe-form-tracker\\myenv\\Scripts\\python.exe -m pip install --upgrade pip' command.\n"
     ]
    }
   ],
   "source": [
    "%pip install mediapipe opencv-python"
   ]
  },
  {
   "cell_type": "code",
   "execution_count": 3,
   "metadata": {},
   "outputs": [
    {
     "name": "stderr",
     "output_type": "stream",
     "text": [
      "Matplotlib is building the font cache; this may take a moment.\n"
     ]
    }
   ],
   "source": [
    "import cv2\n",
    "import mediapipe as mp\n",
    "import numpy as np\n",
    "from PIL import ImageFont, ImageDraw, Image\n",
    "\n",
    "\n",
    "mp_drawing = mp.solutions.drawing_utils\n",
    "mp_pose = mp.solutions.pose\n",
    "mp_hol = mp.solutions.holistic"
   ]
  },
  {
   "cell_type": "code",
   "execution_count": 4,
   "metadata": {},
   "outputs": [],
   "source": [
    "def calculate_angles(start, mid, end):\n",
    "   start = np.array(start)\n",
    "   mid = np.array(mid)\n",
    "   end = np.array(end)\n",
    "\n",
    "   radians = np.arctan2(end[1] - mid[1], end[0] - mid[0]) - np.arctan2(start[1] - mid[1], start[0] - mid[0])\n",
    "   angle = np.abs(radians*180.0/np.pi)\n",
    "\n",
    "   if angle > 180:\n",
    "      angle = 360 - angle\n",
    "   \n",
    "   return angle\n",
    "\n"
   ]
  },
  {
   "cell_type": "code",
   "execution_count": 13,
   "metadata": {},
   "outputs": [
    {
     "name": "stderr",
     "output_type": "stream",
     "text": [
      "c:\\Users\\lakes\\Documents\\mediapipe-form-tracker\\myenv\\lib\\site-packages\\google\\protobuf\\symbol_database.py:55: UserWarning: SymbolDatabase.GetPrototype() is deprecated. Please use message_factory.GetMessageClass() instead. SymbolDatabase.GetPrototype() will be removed soon.\n",
      "  warnings.warn('SymbolDatabase.GetPrototype() is deprecated. Please '\n"
     ]
    }
   ],
   "source": [
    "cap = cv2.VideoCapture(0)\n",
    "\n",
    "counter = 0\n",
    "rep_stage = None\n",
    "\n",
    "with mp_pose.Pose(min_detection_confidence=0.5, min_tracking_confidence=0.5) as pose:\n",
    "   while cap.isOpened():\n",
    "      ret, frame = cap.read()\n",
    "\n",
    "      '''\n",
    "      the cv2 library uses bgr by default but mediapipe wants \n",
    "      frames in rgb format\n",
    "      '''\n",
    "      \n",
    "      image = cv2.cvtColor(frame, cv2.COLOR_BGR2RGB)\n",
    "\n",
    "      # more memory efficient because ensures that we don't need to make a copy of our image (array)\n",
    "      image.flags.writeable = False \n",
    "\n",
    "\n",
    "      results = pose.process(image)\n",
    "\n",
    "      \n",
    "      \n",
    "      \n",
    "      # TODO: get cool custom font\n",
    "      # font = ImageFont.truetype(\"Roboto-Regular.ttf\", 50)\n",
    "\n",
    "\n",
    "\n",
    "      image.flags.writeable = True\n",
    "      image = cv2.cvtColor(image, cv2.COLOR_RGB2BGR)\n",
    "      \n",
    "      #  prepare text renderer\n",
    "      pil_im = Image.fromarray(image)\n",
    "      draw = ImageDraw.Draw(pil_im)\n",
    "      font = ImageFont.load_default()\n",
    "\n",
    "      try:\n",
    "         landmarks = results.pose_landmarks.landmark\n",
    "         \n",
    "         shoulder = [landmarks[mp_pose.PoseLandmark.LEFT_SHOULDER.value].x, landmarks[mp_pose.PoseLandmark.LEFT_SHOULDER.value].y]\n",
    "         elbow = [landmarks[mp_pose.PoseLandmark.LEFT_ELBOW.value].x, landmarks[mp_pose.PoseLandmark.LEFT_ELBOW.value].y]\n",
    "         wrist = [landmarks[mp_pose.PoseLandmark.LEFT_WRIST.value].x, landmarks[mp_pose.PoseLandmark.LEFT_WRIST.value].y]\n",
    "\n",
    "         angle = calculate_angles(shoulder, elbow, wrist)\n",
    "         location_for_text = tuple(np.multiply(elbow, [640,480]).astype(int))\n",
    "         # draw.text(location_for_text, str(angle), font=font)\n",
    "\n",
    "         cv2.putText(\n",
    "            image,\n",
    "            str(int(angle)),\n",
    "            #multiple by 640 and 480 to normalize it to display to the screen\n",
    "            tuple(np.multiply(elbow, [640,480]).astype(int)),\n",
    "            cv2.FONT_HERSHEY_DUPLEX, 0.5, (255,255,255), 2, cv2.LINE_AA\n",
    "         )\n",
    "\n",
    "         if angle > 160:\n",
    "            stage = 'd'\n",
    "         if angle < 30 and stage == 'd':\n",
    "            stage = 'u'\n",
    "            counter += 1\n",
    "\n",
    "         cv2.putText(\n",
    "            image,\n",
    "            f\"Reps: {str(counter)}\",\n",
    "            (0,0),\n",
    "            cv2.FONT_HERSHEY_DUPLEX, 0.5, (255,255,255), 2, cv2.LINE_AA\n",
    "         )\n",
    "         \n",
    "      except:\n",
    "         pass\n",
    "\n",
    "\n",
    "\n",
    "      mp_drawing.draw_landmarks(image, results.pose_landmarks, mp_pose.POSE_CONNECTIONS,\n",
    "                                mp_drawing.DrawingSpec(color=(245,117,66), thickness=2, circle_radius=2),\n",
    "                                mp_drawing.DrawingSpec(color=(245,66,230), thickness=2, circle_radius=2)\n",
    "                                )\n",
    "\n",
    "      cv2.imshow('Feed', image)\n",
    "\n",
    "      key = cv2.waitKey(10)\n",
    "\n",
    "      if key==ord('q'):\n",
    "         cv2.destroyAllWindows()\n",
    "         break\n",
    "\n",
    "   cv2.waitKey(1)\n",
    "   cap.release()\n",
    "   cv2.destroyAllWindows()\n",
    "\n",
    "\n"
   ]
  },
  {
   "cell_type": "code",
   "execution_count": 9,
   "metadata": {},
   "outputs": [
    {
     "data": {
      "text/plain": [
       "[1.4098188877105713, 1.2691775560379028]"
      ]
     },
     "execution_count": 9,
     "metadata": {},
     "output_type": "execute_result"
    }
   ],
   "source": [
    "shoulder"
   ]
  },
  {
   "cell_type": "code",
   "execution_count": 10,
   "metadata": {},
   "outputs": [
    {
     "data": {
      "text/plain": [
       "[1.3396693468093872, 0.863074541091919]"
      ]
     },
     "execution_count": 10,
     "metadata": {},
     "output_type": "execute_result"
    }
   ],
   "source": [
    "elbow"
   ]
  },
  {
   "cell_type": "code",
   "execution_count": 11,
   "metadata": {},
   "outputs": [
    {
     "data": {
      "text/plain": [
       "[1.4098188877105713, 1.2691775560379028]"
      ]
     },
     "execution_count": 11,
     "metadata": {},
     "output_type": "execute_result"
    }
   ],
   "source": [
    "wrist"
   ]
  },
  {
   "cell_type": "code",
   "execution_count": 12,
   "metadata": {},
   "outputs": [
    {
     "data": {
      "text/plain": [
       "np.float64(161.03401002974755)"
      ]
     },
     "execution_count": 12,
     "metadata": {},
     "output_type": "execute_result"
    }
   ],
   "source": [
    "calculate_angles(shoulder, elbow, wrist)"
   ]
  }
 ],
 "metadata": {
  "kernelspec": {
   "display_name": "myenv",
   "language": "python",
   "name": "python3"
  },
  "language_info": {
   "codemirror_mode": {
    "name": "ipython",
    "version": 3
   },
   "file_extension": ".py",
   "mimetype": "text/x-python",
   "name": "python",
   "nbconvert_exporter": "python",
   "pygments_lexer": "ipython3",
   "version": "3.10.2"
  }
 },
 "nbformat": 4,
 "nbformat_minor": 2
}
